{
 "cells": [
  {
   "cell_type": "markdown",
   "id": "98bdd114",
   "metadata": {},
   "source": [
    "### Modelo de Regressão Linear\n",
    "- Estudo e análise da criação de um modelo de Regressão Linear por meio de scikit learn"
   ]
  },
  {
   "cell_type": "code",
   "execution_count": null,
   "id": "1bf0bb82",
   "metadata": {},
   "outputs": [],
   "source": [
    "import pandas as pd\n",
    "import numpy as np  \n",
    "import matplotlib.pyplot as plt\n",
    "import seaborn as sns\n",
    "import scikit.linear_model as LinearRegression\n",
    "import scipy as sci "
   ]
  }
 ],
 "metadata": {
  "kernelspec": {
   "display_name": ".venv",
   "language": "python",
   "name": "python3"
  },
  "language_info": {
   "name": "python",
   "version": "3.12.3"
  }
 },
 "nbformat": 4,
 "nbformat_minor": 5
}
